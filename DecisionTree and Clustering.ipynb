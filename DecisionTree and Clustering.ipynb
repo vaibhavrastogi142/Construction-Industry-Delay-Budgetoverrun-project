{
 "cells": [
  {
   "cell_type": "markdown",
   "metadata": {},
   "source": [
    "# Modelling Using Decision Trees"
   ]
  },
  {
   "cell_type": "markdown",
   "metadata": {},
   "source": [
    "In this notebook we will figure how decision trees work on classifying our data in terms of two target variables\n",
    "1. Delayed (yes or no)\n",
    "2. Budget overrun (yes or no)"
   ]
  },
  {
   "cell_type": "code",
   "execution_count": 14,
   "metadata": {},
   "outputs": [],
   "source": [
    "#import libraries\n",
    "from sklearn import neighbors\n",
    "from sklearn.preprocessing import StandardScaler\n",
    "import matplotlib.pyplot as plt\n",
    "from sklearn import tree\n",
    "from sklearn.svm import SVC\n"
   ]
  },
  {
   "cell_type": "code",
   "execution_count": 15,
   "metadata": {},
   "outputs": [],
   "source": [
    "import pandas as pd"
   ]
  },
  {
   "cell_type": "code",
   "execution_count": 16,
   "metadata": {},
   "outputs": [],
   "source": [
    "#reading file into dataframe\n",
    "df = pd.read_csv('Prepared_Data.csv')"
   ]
  },
  {
   "cell_type": "code",
   "execution_count": 17,
   "metadata": {},
   "outputs": [
    {
     "data": {
      "text/plain": [
       "0    0\n",
       "1    1\n",
       "2    1\n",
       "3    0\n",
       "4    0\n",
       "Name: Delayed, dtype: int64"
      ]
     },
     "execution_count": 17,
     "metadata": {},
     "output_type": "execute_result"
    }
   ],
   "source": [
    "# defining target var for the first model\n",
    "y = df[\"Delayed\"]\n",
    "y.head()"
   ]
  },
  {
   "cell_type": "code",
   "execution_count": 18,
   "metadata": {},
   "outputs": [],
   "source": [
    "#determining predictor vars for the first model\n",
    "X = df.drop(['Delayed','PROJECT_ID','Times_Delayed','Amount_of_Delay_(Quarters)','Initial_completion_date', 'final_completion_date','REGION','MUNICIPALITY'], axis=1)"
   ]
  },
  {
   "cell_type": "code",
   "execution_count": 20,
   "metadata": {},
   "outputs": [],
   "source": [
    "from sklearn.model_selection import train_test_split"
   ]
  },
  {
   "cell_type": "code",
   "execution_count": 28,
   "metadata": {},
   "outputs": [],
   "source": [
    "#splitting data into test and train sets\n",
    "X_train, X_test, y_train, y_test = train_test_split(X, y, test_size=0.15, random_state=42)"
   ]
  },
  {
   "cell_type": "markdown",
   "metadata": {},
   "source": [
    "After defining our data now we will instantiate fit and score our model. We will try to vary the hyperparameter -max_depth to understand how the accuracy varies"
   ]
  },
  {
   "cell_type": "code",
   "execution_count": 27,
   "metadata": {},
   "outputs": [
    {
     "name": "stdout",
     "output_type": "stream",
     "text": [
      "with depth  1  The classification accuracy is: 64.138\n",
      "with depth  2  The classification accuracy is: 66.897\n",
      "with depth  3  The classification accuracy is: 66.207\n",
      "with depth  4  The classification accuracy is: 64.138\n",
      "with depth  5  The classification accuracy is: 64.138\n",
      "with depth  6  The classification accuracy is: 64.138\n",
      "with depth  7  The classification accuracy is: 66.897\n",
      "with depth  8  The classification accuracy is: 64.138\n",
      "with depth  9  The classification accuracy is: 64.828\n",
      "with depth  10  The classification accuracy is: 64.828\n"
     ]
    },
    {
     "data": {
      "text/plain": [
       "[<matplotlib.lines.Line2D at 0x2ab8a609c88>]"
      ]
     },
     "execution_count": 27,
     "metadata": {},
     "output_type": "execute_result"
    },
    {
     "data": {
      "image/png": "[encoded data removed]",
      "text/plain": [
       "<Figure size 432x288 with 1 Axes>"
      ]
     },
     "metadata": {
      "needs_background": "light"
     },
     "output_type": "display_data"
    }
   ],
   "source": [
    "#creating a loop to iterate through different depths for the decision tree\n",
    "\n",
    "accuracy = []\n",
    "for i in range(1,11):\n",
    "    #Getting the score\n",
    "    DT_model_one = tree.DecisionTreeClassifier(max_depth=i)\n",
    "    DT_model_one = DT_model_one.fit(X_train,y_train)\n",
    "    print(\"with depth \",i,\" The classification accuracy is: %3.3f\" % (100 * DT_model_one.score(X_test,y_test)))\n",
    "    accuracy.append(100 * DT_model_one.score(X_test,y_test))\n",
    "#plotting the graph\n",
    "plt.plot(accuracy)"
   ]
  },
  {
   "cell_type": "code",
   "execution_count": 13,
   "metadata": {},
   "outputs": [
    {
     "data": {
      "text/plain": [
       "[Text(196.0342105263158, 199.32, 'X[35] <= 2.0\\nentropy = 0.498\\nsamples = 963\\nvalue = [452, 511]'),\n",
       " Text(118.9421052631579, 163.07999999999998, 'X[3] <= 36.5\\nentropy = 0.426\\nsamples = 344\\nvalue = [238, 106]'),\n",
       " Text(70.48421052631579, 126.83999999999999, 'X[35] <= 1.0\\nentropy = 0.407\\nsamples = 323\\nvalue = [231, 92]'),\n",
       " Text(35.242105263157896, 90.6, 'X[35] <= 0.25\\nentropy = 0.35\\nsamples = 221\\nvalue = [171, 50]'),\n",
       " Text(17.621052631578948, 54.359999999999985, 'X[0] <= 87.0\\nentropy = 0.419\\nsamples = 134\\nvalue = [94, 40]'),\n",
       " Text(8.810526315789474, 18.119999999999976, 'entropy = 0.487\\nsamples = 81\\nvalue = [47, 34]'),\n",
       " Text(26.431578947368422, 18.119999999999976, 'entropy = 0.201\\nsamples = 53\\nvalue = [47, 6]'),\n",
       " Text(52.863157894736844, 54.359999999999985, 'X[13] <= 0.5\\nentropy = 0.203\\nsamples = 87\\nvalue = [77, 10]'),\n",
       " Text(44.05263157894737, 18.119999999999976, 'entropy = 0.172\\nsamples = 84\\nvalue = [76, 8]'),\n",
       " Text(61.67368421052632, 18.119999999999976, 'entropy = 0.444\\nsamples = 3\\nvalue = [1, 2]'),\n",
       " Text(105.72631578947369, 90.6, 'X[12] <= 0.5\\nentropy = 0.484\\nsamples = 102\\nvalue = [60, 42]'),\n",
       " Text(88.10526315789474, 54.359999999999985, 'X[0] <= 24.5\\nentropy = 0.474\\nsamples = 96\\nvalue = [59, 37]'),\n",
       " Text(79.29473684210527, 18.119999999999976, 'entropy = 0.496\\nsamples = 33\\nvalue = [15, 18]'),\n",
       " Text(96.91578947368421, 18.119999999999976, 'entropy = 0.421\\nsamples = 63\\nvalue = [44, 19]'),\n",
       " Text(123.34736842105264, 54.359999999999985, 'X[27] <= 0.5\\nentropy = 0.278\\nsamples = 6\\nvalue = [1, 5]'),\n",
       " Text(114.53684210526316, 18.119999999999976, 'entropy = 0.0\\nsamples = 4\\nvalue = [0, 4]'),\n",
       " Text(132.1578947368421, 18.119999999999976, 'entropy = 0.5\\nsamples = 2\\nvalue = [1, 1]'),\n",
       " Text(167.4, 126.83999999999999, 'X[3] <= 221.97\\nentropy = 0.444\\nsamples = 21\\nvalue = [7, 14]'),\n",
       " Text(149.77894736842106, 90.6, 'X[0] <= 27.0\\nentropy = 0.305\\nsamples = 16\\nvalue = [3, 13]'),\n",
       " Text(140.96842105263158, 54.359999999999985, 'entropy = 0.0\\nsamples = 8\\nvalue = [0, 8]'),\n",
       " Text(158.58947368421053, 54.359999999999985, 'X[10] <= 0.5\\nentropy = 0.469\\nsamples = 8\\nvalue = [3, 5]'),\n",
       " Text(149.77894736842106, 18.119999999999976, 'entropy = 0.278\\nsamples = 6\\nvalue = [1, 5]'),\n",
       " Text(167.4, 18.119999999999976, 'entropy = 0.0\\nsamples = 2\\nvalue = [2, 0]'),\n",
       " Text(185.02105263157895, 90.6, 'X[37] <= 0.5\\nentropy = 0.32\\nsamples = 5\\nvalue = [4, 1]'),\n",
       " Text(176.21052631578948, 54.359999999999985, 'entropy = 0.0\\nsamples = 1\\nvalue = [0, 1]'),\n",
       " Text(193.83157894736843, 54.359999999999985, 'entropy = 0.0\\nsamples = 4\\nvalue = [4, 0]'),\n",
       " Text(273.12631578947367, 163.07999999999998, 'X[31] <= 0.5\\nentropy = 0.452\\nsamples = 619\\nvalue = [214, 405]'),\n",
       " Text(264.3157894736842, 126.83999999999999, 'X[0] <= 689.0\\nentropy = 0.44\\nsamples = 601\\nvalue = [196, 405]'),\n",
       " Text(229.07368421052632, 90.6, 'X[3] <= 31.0\\nentropy = 0.423\\nsamples = 544\\nvalue = [165, 379]'),\n",
       " Text(211.45263157894738, 54.359999999999985, 'X[36] <= 30.5\\nentropy = 0.437\\nsamples = 506\\nvalue = [163, 343]'),\n",
       " Text(202.6421052631579, 18.119999999999976, 'entropy = 0.401\\nsamples = 18\\nvalue = [13, 5]'),\n",
       " Text(220.26315789473685, 18.119999999999976, 'entropy = 0.426\\nsamples = 488\\nvalue = [150, 338]'),\n",
       " Text(246.69473684210527, 54.359999999999985, 'X[27] <= 0.5\\nentropy = 0.1\\nsamples = 38\\nvalue = [2, 36]'),\n",
       " Text(237.8842105263158, 18.119999999999976, 'entropy = 0.054\\nsamples = 36\\nvalue = [1, 35]'),\n",
       " Text(255.50526315789475, 18.119999999999976, 'entropy = 0.5\\nsamples = 2\\nvalue = [1, 1]'),\n",
       " Text(299.5578947368421, 90.6, 'X[35] <= 13.0\\nentropy = 0.496\\nsamples = 57\\nvalue = [31, 26]'),\n",
       " Text(281.93684210526317, 54.359999999999985, 'X[1] <= 16700.0\\nentropy = 0.478\\nsamples = 48\\nvalue = [29, 19]'),\n",
       " Text(273.12631578947367, 18.119999999999976, 'entropy = 0.458\\nsamples = 45\\nvalue = [29, 16]'),\n",
       " Text(290.74736842105267, 18.119999999999976, 'entropy = 0.0\\nsamples = 3\\nvalue = [0, 3]'),\n",
       " Text(317.17894736842106, 54.359999999999985, 'X[0] <= 1471.5\\nentropy = 0.346\\nsamples = 9\\nvalue = [2, 7]'),\n",
       " Text(308.36842105263156, 18.119999999999976, 'entropy = 0.0\\nsamples = 7\\nvalue = [0, 7]'),\n",
       " Text(325.98947368421057, 18.119999999999976, 'entropy = 0.0\\nsamples = 2\\nvalue = [2, 0]'),\n",
       " Text(281.93684210526317, 126.83999999999999, 'entropy = 0.0\\nsamples = 18\\nvalue = [18, 0]')]"
      ]
     },
     "execution_count": 13,
     "metadata": {},
     "output_type": "execute_result"
    },
    {
     "data": {
      "image/png": "[encoded data removed]",
      "text/plain": [
       "<Figure size 432x288 with 1 Axes>"
      ]
     },
     "metadata": {
      "needs_background": "light"
     },
     "output_type": "display_data"
    }
   ],
   "source": [
    "#Plotting the decision tree\n",
    "tree.plot_tree(DT_model_one())"
   ]
  },
  {
   "cell_type": "markdown",
   "metadata": {},
   "source": [
    "Using Decision Tree we get a highest of 66.8% accuracy on our test data at max_depth = 2. This is a lot better as compared to our previous model\n",
    "\n",
    "In the next step we will repeat these steps for our other target variable - Budget overrun (yes or no)"
   ]
  },
  {
   "cell_type": "code",
   "execution_count": 29,
   "metadata": {},
   "outputs": [
    {
     "data": {
      "text/plain": [
       "0    0\n",
       "1    1\n",
       "2    1\n",
       "3    0\n",
       "4    0\n",
       "Name: Budget_Overrun, dtype: int64"
      ]
     },
     "execution_count": 29,
     "metadata": {},
     "output_type": "execute_result"
    }
   ],
   "source": [
    "y = df[\"Budget_Overrun\"]\n",
    "y.head()"
   ]
  },
  {
   "cell_type": "code",
   "execution_count": 33,
   "metadata": {},
   "outputs": [
    {
     "name": "stdout",
     "output_type": "stream",
     "text": [
      "with depth  1  The classification accuracy is: 64.138\n",
      "with depth  2  The classification accuracy is: 66.897\n",
      "with depth  3  The classification accuracy is: 66.207\n",
      "with depth  4  The classification accuracy is: 64.828\n",
      "with depth  5  The classification accuracy is: 64.828\n",
      "with depth  6  The classification accuracy is: 64.138\n",
      "with depth  7  The classification accuracy is: 67.586\n",
      "with depth  8  The classification accuracy is: 61.379\n",
      "with depth  9  The classification accuracy is: 64.138\n",
      "with depth  10  The classification accuracy is: 64.138\n"
     ]
    },
    {
     "data": {
      "text/plain": [
       "[<matplotlib.lines.Line2D at 0x2ab8a665ac8>]"
      ]
     },
     "execution_count": 33,
     "metadata": {},
     "output_type": "execute_result"
    },
    {
     "data": {
      "image/png": "[encoded data removed]",
      "text/plain": [
       "<Figure size 432x288 with 1 Axes>"
      ]
     },
     "metadata": {
      "needs_background": "light"
     },
     "output_type": "display_data"
    }
   ],
   "source": [
    "#creating a loop to iterate through different depths for the decision tree\n",
    "\n",
    "accuracy = []\n",
    "for i in range(1,11):\n",
    "    \n",
    "    #Getting the score\n",
    "    DT_model_two = tree.DecisionTreeClassifier(max_depth=i)\n",
    "    DT_model_two = DT_model_two.fit(X_train,y_train)\n",
    "    print(\"with depth \",i,\" The classification accuracy is: %3.3f\" % (100 * DT_model_two.score(X_test,y_test)))\n",
    "    accuracy.append(100 *  DT_model_two.score(X_test,y_test))\n",
    "#plotting the graph\n",
    "plt.plot(accuracy)"
   ]
  },
  {
   "cell_type": "markdown",
   "metadata": {},
   "source": [
    "The maximum accuracy we get is using DT model to predict the likelihood of budget overrun is 67% at the max_depth of 7"
   ]
  },
  {
   "cell_type": "markdown",
   "metadata": {},
   "source": [
    "### Clustering Data Using Kmeans"
   ]
  },
  {
   "cell_type": "markdown",
   "metadata": {},
   "source": [
    "In the below section we will create unsupervised clusters using Kmeans algorithm and try to decipher further patterns"
   ]
  },
  {
   "cell_type": "code",
   "execution_count": 35,
   "metadata": {},
   "outputs": [],
   "source": [
    "#importing library\n",
    "from sklearn.decomposition import PCA"
   ]
  },
  {
   "cell_type": "code",
   "execution_count": 36,
   "metadata": {},
   "outputs": [],
   "source": [
    "# scaling X\n",
    "# 1. Instantiate\n",
    "my_scaler = StandardScaler()\n",
    "# 2. Fit \n",
    "my_scaler.fit(X)\n",
    "# 3. Transform\n",
    "X_scaled = my_scaler.transform(X)"
   ]
  },
  {
   "cell_type": "code",
   "execution_count": 39,
   "metadata": {},
   "outputs": [],
   "source": [
    "#instantiating and fitting PCA\n",
    "my_pca_scaled = PCA().fit(X_scaled)"
   ]
  },
  {
   "cell_type": "code",
   "execution_count": 40,
   "metadata": {},
   "outputs": [],
   "source": [
    "#transforming the data\n",
    "X_PCA = my_pca_scaled.transform(X_scaled)"
   ]
  },
  {
   "cell_type": "code",
   "execution_count": 41,
   "metadata": {},
   "outputs": [
    {
     "data": {
      "text/plain": [
       "([<matplotlib.axis.XTick at 0x2ab8a684e80>,\n",
       "  <matplotlib.axis.XTick at 0x2ab8a67deb8>,\n",
       "  <matplotlib.axis.XTick at 0x2ab8a692e10>,\n",
       "  <matplotlib.axis.XTick at 0x2ab8b8ca3c8>,\n",
       "  <matplotlib.axis.XTick at 0x2ab8b8ca860>,\n",
       "  <matplotlib.axis.XTick at 0x2ab8b8cabe0>,\n",
       "  <matplotlib.axis.XTick at 0x2ab8b8d2198>,\n",
       "  <matplotlib.axis.XTick at 0x2ab8b8d2710>,\n",
       "  <matplotlib.axis.XTick at 0x2ab8b8d2c88>,\n",
       "  <matplotlib.axis.XTick at 0x2ab8b8d9240>,\n",
       "  <matplotlib.axis.XTick at 0x2ab8b8d97b8>,\n",
       "  <matplotlib.axis.XTick at 0x2ab8b8d9d30>,\n",
       "  <matplotlib.axis.XTick at 0x2ab8b8e02e8>,\n",
       "  <matplotlib.axis.XTick at 0x2ab8b8e0860>,\n",
       "  <matplotlib.axis.XTick at 0x2ab8b8e0dd8>,\n",
       "  <matplotlib.axis.XTick at 0x2ab8b8d9b38>,\n",
       "  <matplotlib.axis.XTick at 0x2ab8b8d2518>,\n",
       "  <matplotlib.axis.XTick at 0x2ab8b8e92b0>,\n",
       "  <matplotlib.axis.XTick at 0x2ab8b8e9828>,\n",
       "  <matplotlib.axis.XTick at 0x2ab8b8e9da0>,\n",
       "  <matplotlib.axis.XTick at 0x2ab8b8ef358>,\n",
       "  <matplotlib.axis.XTick at 0x2ab8b8ef8d0>,\n",
       "  <matplotlib.axis.XTick at 0x2ab8b8efe48>,\n",
       "  <matplotlib.axis.XTick at 0x2ab8b8f5400>,\n",
       "  <matplotlib.axis.XTick at 0x2ab8b8ef400>,\n",
       "  <matplotlib.axis.XTick at 0x2ab8b8e97f0>,\n",
       "  <matplotlib.axis.XTick at 0x2ab8b8f5828>,\n",
       "  <matplotlib.axis.XTick at 0x2ab8b8f5e10>,\n",
       "  <matplotlib.axis.XTick at 0x2ab8b8fe3c8>,\n",
       "  <matplotlib.axis.XTick at 0x2ab8b8fe940>,\n",
       "  <matplotlib.axis.XTick at 0x2ab8b8feeb8>,\n",
       "  <matplotlib.axis.XTick at 0x2ab8b903470>,\n",
       "  <matplotlib.axis.XTick at 0x2ab8b9039e8>,\n",
       "  <matplotlib.axis.XTick at 0x2ab8b903f60>,\n",
       "  <matplotlib.axis.XTick at 0x2ab8b903f28>,\n",
       "  <matplotlib.axis.XTick at 0x2ab8b8fe7b8>,\n",
       "  <matplotlib.axis.XTick at 0x2ab8b90a160>,\n",
       "  <matplotlib.axis.XTick at 0x2ab8b90a9b0>,\n",
       "  <matplotlib.axis.XTick at 0x2ab8b90af28>,\n",
       "  <matplotlib.axis.XTick at 0x2ab8b9114e0>],\n",
       " <a list of 40 Text xticklabel objects>)"
      ]
     },
     "execution_count": 41,
     "metadata": {},
     "output_type": "execute_result"
    },
    {
     "data": {
      "image/png": "[encoded data removed]",
      "text/plain": [
       "<Figure size 432x288 with 1 Axes>"
      ]
     },
     "metadata": {
      "needs_background": "light"
     },
     "output_type": "display_data"
    }
   ],
   "source": [
    "# Plot the explained variances\n",
    "features = range(my_pca_scaled.n_components_)\n",
    "plt.bar(features, my_pca_scaled.explained_variance_ratio_, color='black')\n",
    "plt.xlabel('PCA features')\n",
    "plt.ylabel('variance %')\n",
    "plt.xticks(features)"
   ]
  },
  {
   "cell_type": "code",
   "execution_count": 42,
   "metadata": {},
   "outputs": [],
   "source": [
    "#creating a DF for Principle components\n",
    "PCA_components = pd.DataFrame(X_PCA)"
   ]
  },
  {
   "cell_type": "code",
   "execution_count": 43,
   "metadata": {},
   "outputs": [],
   "source": [
    "#importing Kmeans library\n",
    "from sklearn.cluster import KMeans"
   ]
  },
  {
   "cell_type": "code",
   "execution_count": 44,
   "metadata": {},
   "outputs": [
    {
     "data": {
      "image/png": "[encoded data removed]",
      "text/plain": [
       "<Figure size 432x288 with 1 Axes>"
      ]
     },
     "metadata": {
      "needs_background": "light"
     },
     "output_type": "display_data"
    }
   ],
   "source": [
    "ks = range(1, 10)\n",
    "inertias = []\n",
    "for k in ks:\n",
    "    # Create a KMeans instance with k clusters: model\n",
    "    modelk = KMeans(n_clusters=k)\n",
    "    \n",
    "    # Fit model to samples\n",
    "    modelk.fit(PCA_components.iloc[:,:3])\n",
    "    \n",
    "    # Append the inertia to the list of inertias\n",
    "    inertias.append(modelk.inertia_)\n",
    "    \n",
    "plt.plot(ks, inertias, '-o', color='black')\n",
    "plt.xlabel('number of clusters, k')\n",
    "plt.ylabel('inertia')\n",
    "plt.xticks(ks)\n",
    "plt.show()"
   ]
  },
  {
   "cell_type": "markdown",
   "metadata": {},
   "source": [
    "As We can see 4 is the elbow point in this after which reduction in inertia reduction is not that substantial"
   ]
  },
  {
   "cell_type": "code",
   "execution_count": 45,
   "metadata": {},
   "outputs": [],
   "source": [
    "kmeans = KMeans(n_clusters=4)\n",
    "kmeans.fit(PCA_components)\n",
    "y_kmeans = kmeans.predict(PCA_components)"
   ]
  },
  {
   "cell_type": "code",
   "execution_count": 47,
   "metadata": {},
   "outputs": [
    {
     "data": {
      "text/plain": [
       "<matplotlib.collections.PathCollection at 0x2ab8bac9da0>"
      ]
     },
     "execution_count": 47,
     "metadata": {},
     "output_type": "execute_result"
    },
    {
     "data": {
      "image/png": "[encoded data removed]",
      "text/plain": [
       "<Figure size 432x288 with 1 Axes>"
      ]
     },
     "metadata": {
      "needs_background": "light"
     },
     "output_type": "display_data"
    }
   ],
   "source": [
    "plt.scatter(PCA_components[0], PCA_components[1],s=50, c=y_kmeans, cmap='viridis')"
   ]
  },
  {
   "cell_type": "code",
   "execution_count": 48,
   "metadata": {},
   "outputs": [],
   "source": [
    "#Adding back clusters to original df\n",
    "X[\"cluster\"] = y_kmeans"
   ]
  },
  {
   "cell_type": "code",
   "execution_count": 51,
   "metadata": {},
   "outputs": [],
   "source": [
    "import numpy as np"
   ]
  },
  {
   "cell_type": "code",
   "execution_count": 54,
   "metadata": {},
   "outputs": [],
   "source": [
    "table = pd.pivot_table(X, values='Budget_Overrun', index=['cluster'],aggfunc=np.mean)"
   ]
  },
  {
   "cell_type": "code",
   "execution_count": 55,
   "metadata": {},
   "outputs": [
    {
     "data": {
      "text/html": [
       "<div>\n",
       "<style scoped>\n",
       "    .dataframe tbody tr th:only-of-type {\n",
       "        vertical-align: middle;\n",
       "    }\n",
       "\n",
       "    .dataframe tbody tr th {\n",
       "        vertical-align: top;\n",
       "    }\n",
       "\n",
       "    .dataframe thead th {\n",
       "        text-align: right;\n",
       "    }\n",
       "</style>\n",
       "<table border=\"1\" class=\"dataframe\">\n",
       "  <thead>\n",
       "    <tr style=\"text-align: right;\">\n",
       "      <th></th>\n",
       "      <th>Budget_Overrun</th>\n",
       "    </tr>\n",
       "    <tr>\n",
       "      <th>cluster</th>\n",
       "      <th></th>\n",
       "    </tr>\n",
       "  </thead>\n",
       "  <tbody>\n",
       "    <tr>\n",
       "      <th>0</th>\n",
       "      <td>0.161458</td>\n",
       "    </tr>\n",
       "    <tr>\n",
       "      <th>1</th>\n",
       "      <td>0.066298</td>\n",
       "    </tr>\n",
       "    <tr>\n",
       "      <th>2</th>\n",
       "      <td>0.086207</td>\n",
       "    </tr>\n",
       "    <tr>\n",
       "      <th>3</th>\n",
       "      <td>0.276471</td>\n",
       "    </tr>\n",
       "  </tbody>\n",
       "</table>\n",
       "</div>"
      ],
      "text/plain": [
       "         Budget_Overrun\n",
       "cluster                \n",
       "0              0.161458\n",
       "1              0.066298\n",
       "2              0.086207\n",
       "3              0.276471"
      ]
     },
     "execution_count": 55,
     "metadata": {},
     "output_type": "execute_result"
    }
   ],
   "source": [
    "table"
   ]
  },
  {
   "cell_type": "code",
   "execution_count": null,
   "metadata": {},
   "outputs": [],
   "source": []
  }
 ],
 "metadata": {
  "kernelspec": {
   "display_name": "deeplearning",
   "language": "python",
   "name": "deeplearning"
  },
  "language_info": {
   "codemirror_mode": {
    "name": "ipython",
    "version": 3
   },
   "file_extension": ".py",
   "mimetype": "text/x-python",
   "name": "python",
   "nbconvert_exporter": "python",
   "pygments_lexer": "ipython3",
   "version": "3.6.9"
  }
 },
 "nbformat": 4,
 "nbformat_minor": 2
}
